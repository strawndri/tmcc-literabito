{
  "nbformat": 4,
  "nbformat_minor": 0,
  "metadata": {
    "colab": {
      "provenance": [],
      "mount_file_id": "https://github.com/strawndri/tmcc-voculary/blob/feature/reconhecimento-texto/testes-reconhecimento-texto/Notebook.ipynb",
      "authorship_tag": "ABX9TyOjEvjWtpVAp/p1hUtlfnNU",
      "include_colab_link": true
    },
    "kernelspec": {
      "name": "python3",
      "display_name": "Python 3"
    },
    "language_info": {
      "name": "python"
    }
  },
  "cells": [
    {
      "cell_type": "markdown",
      "metadata": {
        "id": "view-in-github",
        "colab_type": "text"
      },
      "source": [
        "<a href=\"https://colab.research.google.com/github/strawndri/tmcc-voculary/blob/feature%2Freconhecimento-texto/reconhecimento-texto/Notebook.ipynb\" target=\"_parent\"><img src=\"https://colab.research.google.com/assets/colab-badge.svg\" alt=\"Open In Colab\"/></a>"
      ]
    },
    {
      "cell_type": "markdown",
      "source": [
        "# 1 Instalações e importações"
      ],
      "metadata": {
        "id": "b9uhCoUu6yjp"
      }
    },
    {
      "cell_type": "markdown",
      "source": [
        "## 1.1 Bibliotecas"
      ],
      "metadata": {
        "id": "_qbJCIa27BSJ"
      }
    },
    {
      "cell_type": "code",
      "source": [
        "!pip install opencv-python\n",
        "!sudo apt install tesseract-ocr\n",
        "!pip install pytesseract\n",
        "!pip install langdetect"
      ],
      "metadata": {
        "colab": {
          "base_uri": "https://localhost:8080/"
        },
        "id": "HSmPf2T2_QYX",
        "outputId": "66477539-941e-4ebc-c14e-1907d0272670"
      },
      "execution_count": 1,
      "outputs": [
        {
          "output_type": "stream",
          "name": "stdout",
          "text": [
            "Requirement already satisfied: opencv-python in /usr/local/lib/python3.10/dist-packages (4.8.0.76)\n",
            "Requirement already satisfied: numpy>=1.21.2 in /usr/local/lib/python3.10/dist-packages (from opencv-python) (1.23.5)\n",
            "Reading package lists... Done\n",
            "Building dependency tree... Done\n",
            "Reading state information... Done\n",
            "tesseract-ocr is already the newest version (4.1.1-2.1build1).\n",
            "0 upgraded, 0 newly installed, 0 to remove and 16 not upgraded.\n",
            "Requirement already satisfied: pytesseract in /usr/local/lib/python3.10/dist-packages (0.3.10)\n",
            "Requirement already satisfied: packaging>=21.3 in /usr/local/lib/python3.10/dist-packages (from pytesseract) (23.1)\n",
            "Requirement already satisfied: Pillow>=8.0.0 in /usr/local/lib/python3.10/dist-packages (from pytesseract) (9.4.0)\n",
            "Requirement already satisfied: langdetect in /usr/local/lib/python3.10/dist-packages (1.0.9)\n",
            "Requirement already satisfied: six in /usr/local/lib/python3.10/dist-packages (from langdetect) (1.16.0)\n"
          ]
        }
      ]
    },
    {
      "cell_type": "code",
      "execution_count": 2,
      "metadata": {
        "id": "gbhWbzCp_CY5"
      },
      "outputs": [],
      "source": [
        "import pytesseract as pt\n",
        "import numpy as np\n",
        "import cv2\n",
        "from google.colab.patches import cv2_imshow\n",
        "from langdetect import detect"
      ]
    },
    {
      "cell_type": "code",
      "source": [
        "!mkdir tessdata"
      ],
      "metadata": {
        "id": "NW7u7K3FB9bI",
        "colab": {
          "base_uri": "https://localhost:8080/"
        },
        "outputId": "24cade51-a454-45b4-a1ea-c44bc8aaea3d"
      },
      "execution_count": 3,
      "outputs": [
        {
          "output_type": "stream",
          "name": "stdout",
          "text": [
            "mkdir: cannot create directory ‘tessdata’: File exists\n"
          ]
        }
      ]
    },
    {
      "cell_type": "code",
      "source": [
        "!wget -O ./tessdata/por.traineddata https://github.com/tesseract-ocr/tessdata/blob/main/por.traineddata?raw=true\n",
        "!wget -O ./tessdata/eng.traineddata https://github.com/tesseract-ocr/tessdata/blob/main/eng.traineddata?raw=true"
      ],
      "metadata": {
        "id": "crWzCGLDCAV7",
        "colab": {
          "base_uri": "https://localhost:8080/"
        },
        "outputId": "f4b9186f-f2d8-405b-f7ff-c425e65eb4ee"
      },
      "execution_count": 4,
      "outputs": [
        {
          "output_type": "stream",
          "name": "stdout",
          "text": [
            "--2023-08-27 21:59:25--  https://github.com/tesseract-ocr/tessdata/blob/main/por.traineddata?raw=true\n",
            "Resolving github.com (github.com)... 140.82.113.3\n",
            "Connecting to github.com (github.com)|140.82.113.3|:443... connected.\n",
            "HTTP request sent, awaiting response... 302 Found\n",
            "Location: https://github.com/tesseract-ocr/tessdata/raw/main/por.traineddata [following]\n",
            "--2023-08-27 21:59:26--  https://github.com/tesseract-ocr/tessdata/raw/main/por.traineddata\n",
            "Reusing existing connection to github.com:443.\n",
            "HTTP request sent, awaiting response... 302 Found\n",
            "Location: https://raw.githubusercontent.com/tesseract-ocr/tessdata/main/por.traineddata [following]\n",
            "--2023-08-27 21:59:26--  https://raw.githubusercontent.com/tesseract-ocr/tessdata/main/por.traineddata\n",
            "Resolving raw.githubusercontent.com (raw.githubusercontent.com)... 185.199.108.133, 185.199.109.133, 185.199.110.133, ...\n",
            "Connecting to raw.githubusercontent.com (raw.githubusercontent.com)|185.199.108.133|:443... connected.\n",
            "HTTP request sent, awaiting response... 200 OK\n",
            "Length: 15336931 (15M) [application/octet-stream]\n",
            "Saving to: ‘./tessdata/por.traineddata’\n",
            "\n",
            "./tessdata/por.trai 100%[===================>]  14.63M  --.-KB/s    in 0.1s    \n",
            "\n",
            "2023-08-27 21:59:26 (112 MB/s) - ‘./tessdata/por.traineddata’ saved [15336931/15336931]\n",
            "\n",
            "--2023-08-27 21:59:26--  https://github.com/tesseract-ocr/tessdata/blob/main/eng.traineddata?raw=true\n",
            "Resolving github.com (github.com)... 140.82.114.4\n",
            "Connecting to github.com (github.com)|140.82.114.4|:443... connected.\n",
            "HTTP request sent, awaiting response... 302 Found\n",
            "Location: https://github.com/tesseract-ocr/tessdata/raw/main/eng.traineddata [following]\n",
            "--2023-08-27 21:59:26--  https://github.com/tesseract-ocr/tessdata/raw/main/eng.traineddata\n",
            "Reusing existing connection to github.com:443.\n",
            "HTTP request sent, awaiting response... 302 Found\n",
            "Location: https://raw.githubusercontent.com/tesseract-ocr/tessdata/main/eng.traineddata [following]\n",
            "--2023-08-27 21:59:26--  https://raw.githubusercontent.com/tesseract-ocr/tessdata/main/eng.traineddata\n",
            "Resolving raw.githubusercontent.com (raw.githubusercontent.com)... 185.199.108.133, 185.199.109.133, 185.199.110.133, ...\n",
            "Connecting to raw.githubusercontent.com (raw.githubusercontent.com)|185.199.108.133|:443... connected.\n",
            "HTTP request sent, awaiting response... 200 OK\n",
            "Length: 23466654 (22M) [application/octet-stream]\n",
            "Saving to: ‘./tessdata/eng.traineddata’\n",
            "\n",
            "./tessdata/eng.trai 100%[===================>]  22.38M   126MB/s    in 0.2s    \n",
            "\n",
            "2023-08-27 21:59:27 (126 MB/s) - ‘./tessdata/eng.traineddata’ saved [23466654/23466654]\n",
            "\n"
          ]
        }
      ]
    },
    {
      "cell_type": "markdown",
      "source": [
        "## 1.2 Imagens"
      ],
      "metadata": {
        "id": "8dXrSlcr6496"
      }
    },
    {
      "cell_type": "code",
      "source": [
        "artigo = 'imagens/artigo.png'\n",
        "codigo = 'imagens/codigo.png'\n",
        "nota_fiscal = 'imagens/nota_fiscal.png'"
      ],
      "metadata": {
        "id": "TMGm4YnN5_Ep"
      },
      "execution_count": 5,
      "outputs": []
    },
    {
      "cell_type": "markdown",
      "source": [
        "# 2 Tratamento de imagens"
      ],
      "metadata": {
        "id": "m7zj0qId7V3z"
      }
    },
    {
      "cell_type": "code",
      "source": [
        "def realcar_detalhes(imagem):\n",
        "    img_redimensionada = cv2.resize(imagem, None, fx=2, fy=2, interpolation=cv2.INTER_LINEAR)\n",
        "    img_suavizada = cv2.GaussianBlur(img_redimensionada, (5, 5), 0)\n",
        "    img_detalhes = 12 * cv2.subtract(img_redimensionada, img_suavizada)\n",
        "\n",
        "    return cv2.add(img_redimensionada, img_detalhes)"
      ],
      "metadata": {
        "id": "Z7DdjauQ8Js3"
      },
      "execution_count": 6,
      "outputs": []
    },
    {
      "cell_type": "code",
      "source": [
        "def ajustar_brilho(imagem, threshold=128, alpha=1.5, beta=50):\n",
        "    if np.mean(imagem) < threshold:\n",
        "        return cv2.convertScaleAbs(imagem, alpha=alpha, beta=beta)\n",
        "    return imagem"
      ],
      "metadata": {
        "id": "U2jJKHFS8LSl"
      },
      "execution_count": 7,
      "outputs": []
    },
    {
      "cell_type": "code",
      "source": [
        "def binarizar(imagem):\n",
        "    _, img_threshold = cv2.threshold(imagem, 0, 255, cv2.THRESH_BINARY + cv2.THRESH_OTSU)\n",
        "    if cv2.countNonZero(img_threshold) < (img_threshold.size / 2):\n",
        "        return 255 - img_threshold\n",
        "    return img_threshold"
      ],
      "metadata": {
        "id": "LvAR9qrv8M21"
      },
      "execution_count": 8,
      "outputs": []
    },
    {
      "cell_type": "markdown",
      "source": [
        "# 3 Detecção e extração de textos"
      ],
      "metadata": {
        "id": "e2huv26i7Ya1"
      }
    },
    {
      "cell_type": "code",
      "source": [
        "def determinar_psm(imagem):\n",
        "    pixels_pretos = imagem.size - cv2.countNonZero(imagem)\n",
        "    proporcao_preto = pixels_pretos / imagem.size\n",
        "\n",
        "    if proporcao_preto > 0.2:\n",
        "        return '6'\n",
        "    else:\n",
        "        return '1'"
      ],
      "metadata": {
        "id": "BPmiMSY-8GvM"
      },
      "execution_count": 9,
      "outputs": []
    },
    {
      "cell_type": "code",
      "source": [
        "def detectar_idioma(imagem):\n",
        "    codigos = {\n",
        "        'en': 'eng',\n",
        "        'es': 'spa',\n",
        "        'fr': 'fra',\n",
        "        'id': 'ind',\n",
        "        'it': 'ita',\n",
        "        'ja': 'jpn',\n",
        "        'pt': 'por',\n",
        "        'th': 'tha',\n",
        "        'uk': 'ukr',\n",
        "        'zh-cn': 'chi_sim',\n",
        "        'zh-tw': 'chi_tra'\n",
        "    }\n",
        "\n",
        "    try:\n",
        "        cod_idioma = codigos[detect(pt.image_to_string(imagem))]\n",
        "    except:\n",
        "        cod_idioma = 'eng'\n",
        "\n",
        "    return cod_idioma"
      ],
      "metadata": {
        "id": "E1WG_iRA8DrQ"
      },
      "execution_count": 10,
      "outputs": []
    },
    {
      "cell_type": "code",
      "source": [
        "def extrair_texto(imagem):\n",
        "\n",
        "    imagem = cv2.imread(imagem)\n",
        "    imagem = realcar_detalhes(imagem)\n",
        "    imagem = ajustar_brilho(imagem)\n",
        "    img_cinza = cv2.cvtColor(imagem, cv2.COLOR_BGR2GRAY)\n",
        "    img_binarizada = binarizar(img_cinza)\n",
        "\n",
        "    psm_valor = determinar_psm(img_binarizada)\n",
        "    cod_idioma = detectar_idioma(img_binarizada)\n",
        "\n",
        "    texto = pt.image_to_string(img_binarizada, lang=cod_idioma, config=f'--tessdata-dir tessdata --psm {psm_valor}')\n",
        "\n",
        "    return img_binarizada, texto"
      ],
      "metadata": {
        "id": "TwWztT0G7uPg"
      },
      "execution_count": 14,
      "outputs": []
    },
    {
      "cell_type": "markdown",
      "source": [
        "# 4 Testes de OCR"
      ],
      "metadata": {
        "id": "MESWn1ZI7czZ"
      }
    },
    {
      "cell_type": "markdown",
      "source": [
        "## 4.1 Trecho de artigo"
      ],
      "metadata": {
        "id": "UoP4JA_r7glq"
      }
    },
    {
      "cell_type": "code",
      "source": [
        "imagem, texto = extrair_texto(artigo)\n",
        "imagem\n",
        "print(texto)"
      ],
      "metadata": {
        "id": "TIqphwGD_WdY",
        "colab": {
          "base_uri": "https://localhost:8080/"
        },
        "outputId": "d5169e91-9648-4001-8a7d-e06c8d6186ca"
      },
      "execution_count": 15,
      "outputs": [
        {
          "output_type": "stream",
          "name": "stdout",
          "text": [
            "Antigamente, a gestão de dados estava centrada em informações estruturadas,\n",
            "seguindo o modelo rígido como de um Data Warehouse. No entanto, com o\n",
            "surgimento de fontes diversas e dados não estruturados, surgiram desafios na\n",
            "absorção e análise dessas informações em diferentes formatos. Mas, para lidar\n",
            "com esse tipo de problema, era necessário criar soluções customizadas e\n",
            "complexas, tornando o processo lento e ineficiente.\n",
            "\n",
            "As soluções tradicionais de armazenamento e análise não estavam preparadas\n",
            "para absorver, processar e extrair valores dessas informações de diferentes\n",
            "formatos. Era como tentar montar um quebra-cabeça com peças que não se\n",
            "encaixavam no modelo rígido preestabelecido pelo Data Warehouse. Para resolver\n",
            "i8so, as empresas se viam obrigadas a recorrer a soluções customizadas e\n",
            "trabalhosas, envolvendo processos complexos de pré-processamento e\n",
            "transformação dos dados para torná-los adequados ao modelo tradicional.\n",
            "\n",
            "Então, como solução à esse problema, o conceito de Data Lake revolucionou à\n",
            "forma como lidamos com dados. Pois permitia a coleta, armazenamento e análise\n",
            "de dados brutos, estruturados ou não, em um mesmo ambiente integrado.\n",
            "\n",
            "O que é Data Lake?\n",
            "\n",
            "O Data Lake é um repositório altamente flexivel e escalável que armazena dados\n",
            "brutos em diversos formatos, sendo dados estruturados, semiestruturados e não\n",
            "estruturados. Diferentemente do Data Warehouse tradicional, que requer pré-\n",
            "processamento dos dados antes do armazenamento, o Data Lake adota o\n",
            "conceito de \"schema on read\", o que significa que à estruturação dos dados\n",
            "ocorre apenas quando são lidos, conforme a necessidade. Essa abordagem\n",
            "permite uma ingestão mais rápida e facilita a exploração e análise dos dados,\n",
            "adaptando-os conforme a interpretação necessária no momento da leitura.\n",
            "\f\n"
          ]
        }
      ]
    },
    {
      "cell_type": "markdown",
      "source": [
        "## 4.2 Trecho de código do Visual Studio Code"
      ],
      "metadata": {
        "id": "9WitKrbh7kbQ"
      }
    },
    {
      "cell_type": "code",
      "source": [
        "imagem, texto = extrair_texto(codigo)\n",
        "imagem\n",
        "print(texto)"
      ],
      "metadata": {
        "colab": {
          "base_uri": "https://localhost:8080/"
        },
        "id": "86IKp_-98h_s",
        "outputId": "0d3dbcc1-ce2e-4d07-db32-bf8c10c6a692"
      },
      "execution_count": 16,
      "outputs": [
        {
          "output_type": "stream",
          "name": "stdout",
          "text": [
            "voculary » home > @0 views.py > @ home\n",
            "\n",
            "1\n",
            "2\n",
            "3\n",
            "4\n",
            "5\n",
            "6\n",
            "7\n",
            "8\n",
            "9\n",
            "\n",
            "10\n",
            "11\n",
            "12\n",
            "13\n",
            "14\n",
            "15\n",
            "16\n",
            "17\n",
            "18\n",
            "19\n",
            "20\n",
            "\n",
            "FRERR\n",
            "\n",
            "26\n",
            "27\n",
            "\n",
            "from django.shortcuts import render\n",
            "from django.contrib.auth.decorators import login_required\n",
            "\n",
            "from .forms import UploadimagesForam\n",
            "from .utils.extrair_texto import extrair_texto\n",
            "\n",
            "@login_required(Login url=\"/login\")\n",
            "def home(reguest):\n",
            "texto = **\n",
            "imagem = **\n",
            "if request.method == ‘POST\":\n",
            "form = UploadimagesForm(request.POST, request.FILES)\n",
            "if form.is_valid():\n",
            "| images = form.save(comwit=False)\n",
            "images.usuario = request.user\n",
            "imagem.save()\n",
            "texto = extrair_texto(images.images.path)\n",
            "\n",
            "else:\n",
            "\n",
            "| form = UploadImagesForm()\n",
            "\n",
            "context = {\n",
            "\n",
            "‘form’ : form,\n",
            "\n",
            "‘texto’: texto, # Aqui passamos o texto como contexto\n",
            "}\n",
            "\n",
            " \n",
            "\n",
            " \n",
            "\n",
            "return render(request, ‘home/index.html’, comtext)\n",
            "\n",
            " \n",
            "\f\n"
          ]
        }
      ]
    },
    {
      "cell_type": "markdown",
      "source": [
        "## 4.3 Nota fiscal"
      ],
      "metadata": {
        "id": "DVCbiJSk7pCl"
      }
    },
    {
      "cell_type": "code",
      "source": [
        "imagem, texto = extrair_texto(nota_fiscal)\n",
        "imagem\n",
        "print(texto)"
      ],
      "metadata": {
        "colab": {
          "base_uri": "https://localhost:8080/"
        },
        "id": "ABU_Z9E78l6m",
        "outputId": "6deea7fa-6c2c-4abe-83c2-e9fb66d6f8f4"
      },
      "execution_count": 17,
      "outputs": [
        {
          "output_type": "stream",
          "name": "stdout",
          "text": [
            "@ cobreficil\n",
            "\n",
            "NOME FANTASIA LTDA\n",
            "\n",
            "RUA 9 N\"1006 QD .H34 LT .10 SETOR CANOAS\n",
            "SAO JOSE - SC\n",
            "\n",
            "CNP2J: 89.455.000/003-00 06/01/2022\n",
            "IE: 10.457.671-2 12:12:39\n",
            "IM: 08641569 CCF:120289\n",
            "\n",
            "CDD:124857\n",
            "\n",
            "CUPOM FISCAL\n",
            "\n",
            "ITEM COD. DESC. VALOR\n",
            "001 268 PAO SIRIOSAID 268G 3,96\n",
            "002 146 QUIBE CRU 0,223KG X 27,90 5,90\n",
            "003 138 HOMOS 0,2KG X 28,90 5,63\n",
            "\n",
            "ESFIHA ABERTA 0.654 X 27,90 18,24\n",
            "\n",
            "DINHEIRO R$ 50,00 TOTAL R$33,74\n",
            "\n",
            "TROCO R$ 16,26\n",
            "IMPOSTOS 225% R$759\n",
            "\n",
            "T1 01T 17,00%\n",
            "ND-5: 2COF4658121658H0O56874Q5\n",
            "OPERADOR: MARIA DA SILVA\n",
            "\n",
            "456HDOS7 HUKSOJAH56 UHNL9634 896QHB6GKO\n",
            "BEMATECH MP-40 TH Fl ECF-IF\n",
            "\n",
            "VER.01.002 ECF/002 L1.001\n",
            "\n",
            "QQQQQQQOETUTITU 06/01/2022 12:12:28\n",
            "\n",
            "FAB: BEO9912789753009677\n",
            "\f\n"
          ]
        }
      ]
    }
  ]
}